{
 "cells": [
  {
   "cell_type": "code",
   "execution_count": 1,
   "id": "511f0933",
   "metadata": {},
   "outputs": [],
   "source": [
    "import requests\n",
    "import os \n",
    "import io\n",
    "import pandas as pd \n",
    "from PIL import Image\n",
    "from bs4 import BeautifulSoup"
   ]
  },
  {
   "cell_type": "code",
   "execution_count": null,
   "id": "a179665a",
   "metadata": {},
   "outputs": [],
   "source": [
    "base_url = 'url-{}.htm'\n",
    "# Paste the url you want in the \"url\" section\n",
    "firma_bilgileri = {}\n",
    "headers = {\"User-Agent\":\"Mozilla/5.0 (Windows NT 10.0; Win64; x64) AppleWebKit/537.36 (KHTML, like Gecko) Chrome/124.0.0.0 Safari/537.36\"}\n",
    "url=''"
   ]
  },
  {
   "cell_type": "code",
   "execution_count": null,
   "id": "6f1e1bcc",
   "metadata": {},
   "outputs": [],
   "source": [
    "href_listesi = []\n",
    "for page_number in range(1,25):  \n",
    "    if page_number == 1:\n",
    "        url = 'url'\n",
    "        # Paste the url you want in the \"url\" section\n",
    "    else:\n",
    "        url = base_url.format(page_number)      \n",
    "    sayfa = requests.get(url, headers=headers)\n",
    "    soup = BeautifulSoup(sayfa.text, \"html.parser\")\n",
    "    List = soup.find(\"div\", {\"class\": \"clearfix\"}).find_all(\"a\", {\"class\": \"corp-name\"})\n",
    "    for a in soup.find_all('a', class_='corp-name'):\n",
    "        href = a.get('href')\n",
    "        href_listesi.append(href)\n",
    "    for href in href_listesi:\n",
    "        print(href)"
   ]
  },
  {
   "cell_type": "code",
   "execution_count": null,
   "id": "aebf44b8",
   "metadata": {},
   "outputs": [],
   "source": [
    "base_url_2='url/{}'"
   ]
  },
  {
   "cell_type": "code",
   "execution_count": null,
   "id": "6c1f6398",
   "metadata": {},
   "outputs": [],
   "source": [
    "firma_url_liste = []\n",
    "for firma in href_listesi:  \n",
    "    url_firma=base_url_2.format(firma)\n",
    "    firma_url_liste.append(url_firma)"
   ]
  },
  {
   "cell_type": "code",
   "execution_count": null,
   "id": "98f3bb5d",
   "metadata": {},
   "outputs": [],
   "source": [
    "for firma in firma_url_liste:\n",
    "    print(firma)"
   ]
  },
  {
   "cell_type": "code",
   "execution_count": null,
   "id": "338156ad",
   "metadata": {},
   "outputs": [],
   "source": [
    "sayfa2 = requests.get(url_firma,headers=headers)\n",
    "soup2=BeautifulSoup(sayfa2.text , \"html.parser\")"
   ]
  },
  {
   "cell_type": "code",
   "execution_count": null,
   "id": "8af86eb1",
   "metadata": {},
   "outputs": [],
   "source": [
    "firma_bilgileri_listesi = []\n",
    "for url in firma_url_liste:\n",
    "    firma_bilgileri = {}  # Her bir URL için firma bilgilerini tutacak sözlüğü yeniden başlatın\n",
    "    \n",
    "    # URL'yi kullanarak gerekli işlemleri gerçekleştirin ve firma bilgilerini alın\n",
    "    # Örneğin, aşağıdaki kodlar HTML sayfasından firma bilgilerini alıyor gibi görünüyor:\n",
    "    sayfa2 = requests.get(url, headers=headers)\n",
    "    soup2 = BeautifulSoup(sayfa2.text, \"html.parser\")\n",
    "\n",
    "    for tr in soup2.find_all('tr'):\n",
    "        tds = tr.find_all('td')\n",
    "        if len(tds) == 3:\n",
    "            key = tds[0].text.strip()\n",
    "            value = tds[2].text.strip()\n",
    "            firma_bilgileri[key] = value\n",
    "    firma_bilgileri_listesi.append(firma_bilgileri)\n",
    "    # Her bir firma için bilgileri yazdırın\n",
    "    for key, value in firma_bilgileri.items():\n",
    "        print(f\"{key}: {value}\")\n",
    "\n",
    "    print(\"\\n\")  # Her bir firma bilgisi seti arasına boş bir satır ekleyin"
   ]
  },
  {
   "cell_type": "code",
   "execution_count": null,
   "id": "5f9f227d",
   "metadata": {},
   "outputs": [],
   "source": [
    "df = pd.DataFrame(firma_bilgileri_listesi)\n",
    "df"
   ]
  },
  {
   "cell_type": "code",
   "execution_count": null,
   "id": "b897d826",
   "metadata": {},
   "outputs": [],
   "source": [
    "image_urls = []\n",
    "\n",
    "for page_number in range(1, 26):  \n",
    "    if page_number == 1:\n",
    "        url = 'url/firmalar.htm'\n",
    "    else:\n",
    "        url = base_url.format(page_number)\n",
    "        \n",
    "    response = requests.get(url)\n",
    "    html_content = response.text\n",
    "    soup = BeautifulSoup(html_content, \"html.parser\")\n",
    "\n",
    "    for a_tag in soup.find_all('a', class_='corp-image'):\n",
    "        img_tag = a_tag.find('img')\n",
    "        if img_tag:       \n",
    "            img_url = img_tag['src']   \n",
    "            image_urls.append(img_url)"
   ]
  },
  {
   "cell_type": "code",
   "execution_count": null,
   "id": "fe1260ee",
   "metadata": {},
   "outputs": [],
   "source": [
    "for img_url in image_urls:\n",
    "    print(img_url)\n",
    "len(image_urls)"
   ]
  },
  {
   "cell_type": "code",
   "execution_count": null,
   "id": "f409fdbf",
   "metadata": {},
   "outputs": [],
   "source": [
    "df['images'] = image_urls\n",
    "df"
   ]
  },
  {
   "cell_type": "code",
   "execution_count": null,
   "id": "aaa7c0d8",
   "metadata": {},
   "outputs": [],
   "source": [
    "firma_aciklama_listesi = []\n",
    "\n",
    "for url in firma_url_liste:\n",
    "    aciklama = ''      \n",
    "    sayfa3 = requests.get(url, headers=headers)\n",
    "    soup3 = BeautifulSoup(sayfa3.text, \"html.parser\")\n",
    "    \n",
    "    # Açıklamaların bulunduğu HTML yapısını inceleyerek gerekli etiketleri bulalım\n",
    "    aciklama_etiketleri = soup3.find_all('div', id='detail-wrap')\n",
    "   \n",
    "    # Her bir açıklama etiketini dolaşarak içeriğini birleştirelim\n",
    "    for etiket in aciklama_etiketleri:\n",
    "        paragraflar = etiket.find_all('p')  # Tüm <p> etiketlerini al\n",
    "        for p in paragraflar:\n",
    "            aciklama += p.get_text(strip=True) + '\\n'  # Her bir paragrafın metnini alarak birleştir\n",
    "    \n",
    "    # Elde edilen açıklamayı listeye ekleyelim\n",
    "    firma_aciklama_listesi.append(aciklama)\n",
    "    \n",
    "# Her bir URL için alınan açıklamaları ekrana yazdıralım\n",
    "for aciklamaa in firma_aciklama_listesi:\n",
    "    print(aciklamaa)"
   ]
  },
  {
   "cell_type": "code",
   "execution_count": null,
   "id": "103d275f",
   "metadata": {},
   "outputs": [],
   "source": [
    "df['aciklama'] = firma_aciklama_listesi\n",
    "df"
   ]
  },
  {
   "cell_type": "code",
   "execution_count": null,
   "id": "b3d2539b",
   "metadata": {},
   "outputs": [],
   "source": [
    "df['Gsm No'] = df['Gsm No'].astype(str)\n",
    "\n",
    "df['Gsm No'] = df['Gsm No'].str.replace(' ', '')\n",
    "\n",
    "df['Faks'] = df['Faks'].astype(str)\n",
    "\n",
    "df['Faks'] = df['Faks'].str.replace(' ', '')\n",
    "\n",
    "df['Telefon'] = df['Telefon'].astype(str)\n",
    "\n",
    "df['Telefon'] = df['Telefon'].str.replace(' ', '')\n",
    "\n",
    "df"
   ]
  },
  {
   "cell_type": "code",
   "execution_count": null,
   "id": "6c6c166a",
   "metadata": {},
   "outputs": [],
   "source": [
    "df[['Şehir', 'İlçe']] = df['Şehir / İlçe'].str.split(' - ', expand=True)\n",
    "df.drop(columns=['Şehir / İlçe'], inplace=True)"
   ]
  },
  {
   "cell_type": "code",
   "execution_count": null,
   "id": "123ae9d5",
   "metadata": {},
   "outputs": [],
   "source": [
    "df['Şehir'] =df['Şehir'].astype(str)\n",
    "df['İlçe'] =df['İlçe'].astype(str)\n",
    "df['Şehir'] = df['Şehir'].str.strip()\n",
    "df['İlçe'] = df['İlçe'].str.strip()\n",
    "\n",
    "df.dtypes\n",
    "df"
   ]
  },
  {
   "cell_type": "code",
   "execution_count": null,
   "id": "972382e3",
   "metadata": {},
   "outputs": [],
   "source": [
    "df = df.fillna(\"nan\")\n",
    "df"
   ]
  },
  {
   "cell_type": "code",
   "execution_count": null,
   "id": "8be7781c",
   "metadata": {},
   "outputs": [],
   "source": [
    "df['Telefon'] = df['Telefon'].astype(str)\n",
    "df['Faks'] = df['Faks'].astype(str)\n",
    "df['Gsm No'] = df['Gsm No'].astype(str)\n",
    "df.to_parquet('firma.parquet', index=False)"
   ]
  },
  {
   "cell_type": "code",
   "execution_count": null,
   "id": "21d941b8",
   "metadata": {},
   "outputs": [],
   "source": [
    "folder_path = 'images_firma'\n",
    "if not os.path.exists(folder_path):\n",
    "    os.makedirs(folder_path)\n",
    "base_url_img = 'url/'\n",
    "full_urls = [base_url_img + url for url in image_urls]"
   ]
  },
  {
   "cell_type": "code",
   "execution_count": null,
   "id": "9e76e178",
   "metadata": {},
   "outputs": [],
   "source": [
    "for index,imgs in enumerate(full_urls, start=1):\n",
    "    urll = imgs\n",
    "    if \"100x60-logo.jpg\" not in urll:\n",
    "        try:\n",
    "        \n",
    "            # URL'den fotoğrafı indir\n",
    "            response = requests.get(urll)                \n",
    "            print(response)\n",
    "            print(urll)\n",
    "            # Fotoğrafı dosyaya kaydet\n",
    "            with open(f'{folder_path}/{index}-image.jpg', 'wb') as f:\n",
    "                f.write(response.content)\n",
    "        \n",
    "            print(f'Image {index} downloaded successfully!')\n",
    "        except Exception as e:\n",
    "            print(f'Error downloading image {index}: {e}')"
   ]
  }
 ],
 "metadata": {
  "kernelspec": {
   "display_name": "Python 3 (ipykernel)",
   "language": "python",
   "name": "python3"
  },
  "language_info": {
   "codemirror_mode": {
    "name": "ipython",
    "version": 3
   },
   "file_extension": ".py",
   "mimetype": "text/x-python",
   "name": "python",
   "nbconvert_exporter": "python",
   "pygments_lexer": "ipython3",
   "version": "3.11.7"
  },
  "varInspector": {
   "cols": {
    "lenName": 16,
    "lenType": 16,
    "lenVar": 40
   },
   "kernels_config": {
    "python": {
     "delete_cmd_postfix": "",
     "delete_cmd_prefix": "del ",
     "library": "var_list.py",
     "varRefreshCmd": "print(var_dic_list())"
    },
    "r": {
     "delete_cmd_postfix": ") ",
     "delete_cmd_prefix": "rm(",
     "library": "var_list.r",
     "varRefreshCmd": "cat(var_dic_list()) "
    }
   },
   "types_to_exclude": [
    "module",
    "function",
    "builtin_function_or_method",
    "instance",
    "_Feature"
   ],
   "window_display": false
  }
 },
 "nbformat": 4,
 "nbformat_minor": 5
}
